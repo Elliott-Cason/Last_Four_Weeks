{
  "nbformat": 4,
  "nbformat_minor": 0,
  "metadata": {
    "colab": {
      "name": "OPC Data - Last Four Weeks.ipynb",
      "provenance": []
    },
    "kernelspec": {
      "name": "python3",
      "display_name": "Python 3"
    },
    "language_info": {
      "name": "python"
    }
  },
  "cells": [
    {
      "cell_type": "markdown",
      "source": [
        "# **OPC Data - Last Four Weeks**"
      ],
      "metadata": {
        "id": "pje9w9NHZ7y2"
      }
    },
    {
      "cell_type": "markdown",
      "source": [
        "*1. Select information from SQL server*\n",
        "\n",
        "*2. Download CSV data from SQL server*\n",
        "\n",
        "*3. Upload CSV data here*\n",
        "\n"
      ],
      "metadata": {
        "id": "l7yhQMeo00Zz"
      }
    },
    {
      "cell_type": "markdown",
      "source": [
        "*- Press ctrl+f9 to rull all data. Make sure that current team and file name is accurate -*"
      ],
      "metadata": {
        "id": "ZhMJwiD_aeBC"
      }
    },
    {
      "cell_type": "markdown",
      "source": [
        "**List of current team members**"
      ],
      "metadata": {
        "id": "T2QGzAtw6PyU"
      }
    },
    {
      "cell_type": "code",
      "source": [
        "current_team = ['Lara Crisp', 'Shianne Elliott', 'Conan Cecconie', 'Jonathan Reale', 'Jacob Friedman', 'Taylor Keyes', 'Beau Thomas']"
      ],
      "metadata": {
        "id": "9cvt992ofLCf"
      },
      "execution_count": null,
      "outputs": []
    },
    {
      "cell_type": "markdown",
      "source": [
        "**The name of the uploaded file should EXACTLY match the one below**"
      ],
      "metadata": {
        "id": "WMZxIDE16crz"
      }
    },
    {
      "cell_type": "code",
      "source": [
        "file_name = 'Program Ledger By Personnel.csv'"
      ],
      "metadata": {
        "id": "09S519iTbIYh"
      },
      "execution_count": null,
      "outputs": []
    },
    {
      "cell_type": "markdown",
      "source": [
        "## **OPC Team Graphs**"
      ],
      "metadata": {
        "id": "aIwKxXHdHUn5"
      }
    },
    {
      "cell_type": "markdown",
      "source": [
        "**- The following cell will notify if a date or person is not found in the uploaded file -**"
      ],
      "metadata": {
        "id": "dX07mRJ5HEww"
      }
    },
    {
      "cell_type": "code",
      "source": [
        "#@title\n",
        "import pandas as pd\n",
        "import numpy as np\n",
        "import datetime\n",
        "import matplotlib.pyplot as plt\n",
        "from datetime import datetime, date, time, timezone, timedelta\n",
        "\n",
        "BGV = pd.read_csv(file_name)\n",
        "BGV['TourDate1'] = pd.to_datetime(BGV['TourDate1'])\n",
        "BGV.drop_duplicates(subset=['PersonnelNameTitle', 'TourID2'], inplace=True)\n",
        "\n",
        "alt_BGV = BGV\n",
        "\n",
        "# Compute 4 week date range from today\n",
        "today = date.today()\n",
        "today = today.strftime(\"%Y-%m-%d\")\n",
        "today = datetime.strptime(today, '%Y-%m-%d')\n",
        "two_weeks_ago = today - timedelta(days=28)   #go back 28 days aka 4 weeks\n",
        "two_weeks_ago = two_weeks_ago.strftime(\"%Y-%m-%d\")\n",
        "today = today.strftime(\"%Y-%m-%d\")\n",
        "\n",
        "BGV = BGV.loc[(BGV['TourDate1'] >= two_weeks_ago) & (BGV['TourDate1'] <= today)]\n",
        "\n",
        "opc_team = pd.DataFrame()\n",
        "for individual in range(len(current_team)):\n",
        "  opc_team = opc_team.append(BGV.loc[BGV['PersonnelNameTitle'] == str(current_team[individual])+': Tour Booker'])\n",
        "\n",
        "BGV = BGV.sort_values('TourDate1')\n",
        "daterange = pd.date_range(start = two_weeks_ago, end = today, freq='d')\n",
        "\n",
        "opc_team_showed = opc_team.loc[opc_team['TourStatus2'] == 'Showed']\n",
        "\n",
        "# Compute 6 weeks back for 14 day average\n",
        "two_weeks_ago = datetime.strptime(two_weeks_ago, '%Y-%m-%d')\n",
        "six_weeks_ago = two_weeks_ago - timedelta(days=13)   #go back 13 days\n",
        "time = six_weeks_ago.strftime(\"%Y-%m-%d\")\n",
        "two_weeks_ago = two_weeks_ago.strftime('%Y-%m-%d') # Convert back to str\n",
        "\n",
        "for i in range(len(daterange)):\n",
        "  if daterange[i].strftime('%Y-%m-%d') not in BGV['TourDate1'].astype('str').unique():\n",
        "    print('NOTICE: {} is not in uploaded file'.format(daterange[i].strftime('%Y-%m-%d')))\n",
        "\n",
        "# Create graph of last 4 weeks\n",
        "from matplotlib.ticker import MaxNLocator\n",
        "import matplotlib.dates as mdates\n",
        "\n",
        "for individual in range(len(current_team)):\n",
        "  name = current_team[individual]\n",
        "  if name+': Tour Booker' in opc_team['PersonnelNameTitle'].unique():\n",
        "    fig, ax = plt.subplots(figsize=(15,4))\n",
        "    \n",
        "    individual_showed = opc_team_showed.loc[opc_team_showed['PersonnelNameTitle'] == name+': Tour Booker']\n",
        "\n",
        "    df1 = individual_showed.loc[(individual_showed['ContractStatus1'] != 'Active\\r\\nActive') & (individual_showed['ContractStatus1'] != 'Suspense\\r\\nSuspense')]\n",
        "\n",
        "    df2 = individual_showed.loc[individual_showed['CommissionVolume'] > 0]\n",
        "    df2 = df2.loc[(df2['ContractStatus1'] == 'Active\\r\\nActive') | (df2['ContractStatus1'] == 'Suspense\\r\\nSuspense')]\n",
        "\n",
        "    #daterange = datetime.strptime(daterange, '%Y-%m-%d')\n",
        "    individual_daterange = pd.DataFrame(index=daterange)\n",
        "    individual_daterange['Tour Count'] = individual_showed['TourDate1'].value_counts()\n",
        "    individual_daterange['Tour Count'] = individual_daterange['Tour Count'].fillna(0)\n",
        "    individual_daterange['Tour Date'] = individual_daterange.index.strftime('%Y-%m-%d')\n",
        "    individual_daterange['Average'] = individual_daterange['Tour Count'].rolling(14).mean()\n",
        "\n",
        "    individual_daterange['Purchase Count'] = df2['TourDate1'].value_counts()\n",
        "    individual_daterange['Shown Count'] = df1['TourDate1'].value_counts()\n",
        "    individual_daterange['Purchase Count'] = individual_daterange['Purchase Count'].fillna(0)\n",
        "    individual_daterange['Shown Count'] = individual_daterange['Shown Count'].fillna(0)\n",
        "\n",
        "    alt_daterange = pd.date_range(start = six_weeks_ago, end = today, freq='d')\n",
        "    alt_individual_daterange = pd.DataFrame(index=alt_daterange)\n",
        "\n",
        "    alt_individual_showed = alt_BGV.loc[(alt_BGV['PersonnelNameTitle'] == name+': Tour Booker') & (alt_BGV['TourStatus2'] == 'Showed')]\n",
        "    alt_individual_daterange['Tour Count'] = alt_individual_showed['TourDate1'].value_counts()\n",
        "    alt_individual_daterange['Tour Count'] = alt_individual_daterange['Tour Count'].fillna(0)\n",
        "    alt_individual_daterange['Day'] = alt_individual_daterange.index.strftime('%d')\n",
        "\n",
        "    x = alt_individual_daterange['Tour Count'].rolling(14).mean().dropna()\n",
        "    individual_daterange['Rolling Average'] = x.to_list()\n",
        "\n",
        "    individual_daterange.plot('Tour Date', 'Tour Count', kind='bar', color='lightskyblue', alpha=0.75, ax=ax, zorder=3)\n",
        "    individual_daterange.plot('Tour Date', 'Purchase Count', kind='bar', color='forestgreen', ax=ax, alpha=0.5, zorder=5)\n",
        "    individual_daterange.plot('Tour Date', 'Rolling Average', linewidth=3, color='#1f77b4', ax=ax, zorder=6).grid(axis='y', zorder=0, alpha=0.5)\n",
        "\n",
        "    count = individual_daterange['Tour Count'].sum().astype(int)\n",
        "    average = individual_daterange['Tour Count'].fillna(0).mean()\n",
        "    plt.axhline(y=average, color='lightcoral', zorder=4)\n",
        "    ax.yaxis.set_major_locator(MaxNLocator(integer=True))\n",
        "\n",
        "    [l.set_visible(False) for (i,l) in enumerate(ax.xaxis.get_ticklabels()) if i % 2 != 0]\n",
        "\n",
        "    plt.xlabel('')\n",
        "    plt.xticks(rotation=90)\n",
        "    plt.title('   '+str(name)+' (Total: '+str(count)+')', weight='bold', loc='left', fontsize=12)\n",
        "    plt.title('Tour Count Average from '+str(two_weeks_ago)+' to '+str(today)+'   ', loc='right', fontsize=12)\n",
        "    plt.legend(['14 Day Average', 'Overall Average: '+str(round(average,2))])\n",
        "\n",
        "  else:\n",
        "    print(\"Can't find data for \" + name)"
      ],
      "metadata": {
        "cellView": "form",
        "id": "jfNrFmypeOs8"
      },
      "execution_count": null,
      "outputs": []
    }
  ]
}